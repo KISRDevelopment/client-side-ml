{
 "cells": [
  {
   "cell_type": "code",
   "execution_count": null,
   "metadata": {},
   "outputs": [],
   "source": [
    "# necessary imports\n",
    "import numpy as np\n",
    "import numpy.random as rng \n",
    "import tensorflow as tf\n",
    "import matplotlib.pyplot as plt \n",
    "import sklearn.metrics\n",
    "import keras.layers as layers\n",
    "import keras.models\n",
    "import scipy.stats\n",
    "import keras.utils\n",
    "import json\n",
    "import pandas as pd"
   ]
  },
  {
   "cell_type": "code",
   "execution_count": null,
   "metadata": {},
   "outputs": [],
   "source": [
    "with open('cars_data.json', 'r') as f:\n",
    "    cars = json.load(f)\n",
    "df = pd.DataFrame(cars)\n",
    "\n",
    "KM_PER_LITER_PER_MILES_PER_GALLON = 0.425144\n",
    "\n",
    "df['kpl'] = df['Miles_per_Gallon'] * KM_PER_LITER_PER_MILES_PER_GALLON\n",
    "df['weight'] = df['Weight_in_lbs'] * 0.453592\n",
    "df = df[~np.isnan(df['kpl']) & ~np.isnan(df['Horsepower'])]"
   ]
  },
  {
   "cell_type": "code",
   "execution_count": null,
   "metadata": {},
   "outputs": [],
   "source": [
    "X = np.array(df['Horsepower'])[:,np.newaxis]\n",
    "y = np.array(df['kpl'])[:,np.newaxis]\n",
    "\n",
    "N_HIDDEN = 3\n",
    "\n",
    "input_node = layers.Input(shape=(X.shape[1],))\n",
    "hidden_layer = layers.Dense(N_HIDDEN, activation='relu')(input_node)\n",
    "output_node = layers.Dense(1, activation='linear')(hidden_layer)\n",
    "model = keras.models.Model(inputs=input_node, outputs=output_node)\n",
    "model.compile('sgd', 'mean_squared_error')\n"
   ]
  },
  {
   "cell_type": "code",
   "execution_count": null,
   "metadata": {},
   "outputs": [],
   "source": [
    "# train the model\n",
    "Xnormed = (X - np.mean(X)) / np.std(X)\n",
    "ynormed = np.log(y)\n",
    "h = model.fit(x = Xnormed, y=ynormed, verbose=False, epochs=1000, batch_size=X.shape[0])"
   ]
  },
  {
   "cell_type": "code",
   "execution_count": null,
   "metadata": {},
   "outputs": [],
   "source": [
    "# f, ax = plt.subplots(1, 1, figsize=(20, 10))\n",
    "# ax.plot(h.history['loss'], linewidth=5)\n",
    "# ax.plot(h.history['val_loss'], linewidth=5)\n",
    "# ax.set_title('Model Loss')\n",
    "# ax.set_ylabel('Loss')\n",
    "# ax.set_xlabel('Epoch')\n",
    "# ax.legend(['Train', 'Test'], loc='upper left')"
   ]
  },
  {
   "cell_type": "code",
   "execution_count": null,
   "metadata": {},
   "outputs": [],
   "source": [
    "hps = np.linspace(0, 500, 1000)[:,np.newaxis]\n",
    "log_kpls = model.predict((hps - np.mean(X))/np.std(X))\n",
    "\n",
    "mse = np.mean(np.square(np.exp(model.predict(Xnormed)) - y))\n",
    "print(\"MSE: %f\" % mse)\n",
    "f, ax = plt.subplots(1, 1, figsize=(10, 10))\n",
    "ax.plot(df['Horsepower'], df['kpl'], marker='o', linestyle='', markersize=10, color='orange', markeredgecolor='black')\n",
    "\n",
    "ax.plot(hps, np.exp(log_kpls), linewidth=5, linestyle='--')\n",
    "ax.tick_params(axis='x', labelsize=28)\n",
    "ax.tick_params(axis='y', labelsize=28)\n",
    "ax.set_ylabel('Kilometers per Liter', fontsize=32, fontweight='bold')\n",
    "ax.set_xlabel('Horsepower', fontsize=32, fontweight='bold')\n",
    "ax.grid('both')\n",
    "ax.set_ylim([0, 21])\n",
    "ax.legend(fontsize=24, frameon=False)\n",
    "plt.savefig('../tmp/nn_fit.png', bbox_inches='tight')\n"
   ]
  },
  {
   "cell_type": "code",
   "execution_count": null,
   "metadata": {},
   "outputs": [],
   "source": []
  },
  {
   "cell_type": "code",
   "execution_count": null,
   "metadata": {},
   "outputs": [],
   "source": []
  }
 ],
 "metadata": {
  "kernelspec": {
   "display_name": "Python 3",
   "language": "python",
   "name": "python3"
  },
  "language_info": {
   "codemirror_mode": {
    "name": "ipython",
    "version": 3
   },
   "file_extension": ".py",
   "mimetype": "text/x-python",
   "name": "python",
   "nbconvert_exporter": "python",
   "pygments_lexer": "ipython3",
   "version": "3.7.3"
  }
 },
 "nbformat": 4,
 "nbformat_minor": 4
}
